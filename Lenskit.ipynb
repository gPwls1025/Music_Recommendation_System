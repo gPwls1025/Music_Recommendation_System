{
 "cells": [
  {
   "attachments": {},
   "cell_type": "markdown",
   "id": "54e596c2-fc49-4675-a279-48a35f93b026",
   "metadata": {},
   "source": [
    "# Lenskit ALS (Extension 1)"
   ]
  },
  {
   "cell_type": "code",
   "execution_count": 1,
   "id": "56e6f2f8-b012-405b-890e-ef3edc281f9c",
   "metadata": {},
   "outputs": [],
   "source": [
    "import pandas as pd\n",
    "import lenskit\n",
    "from lenskit import batch, topn, util\n",
    "from lenskit import crossfold as xf\n",
    "from lenskit.algorithms import als, Recommender\n",
    "from lenskit.metrics.topn import precision, ndcg\n",
    "import time\n",
    "from sklearn.preprocessing import LabelEncoder\n",
    "import dask.dataframe as dd\n",
    "import numpy as np"
   ]
  },
  {
   "attachments": {},
   "cell_type": "markdown",
   "id": "75fd9fc7-10dd-439f-a6f0-7ec717be375e",
   "metadata": {
    "tags": []
   },
   "source": [
    "## Load Data"
   ]
  },
  {
   "cell_type": "code",
   "execution_count": 26,
   "id": "b23ad1b4-4338-4d22-9fba-180eedfa1f99",
   "metadata": {},
   "outputs": [],
   "source": [
    "# Load the dataset as a Pandas DataFrame\n",
    "train_path = '/Users/choi/git/NYU/DSGA1004 Big Data/final-project-group-2/recommender_train_small'\n",
    "train_full_path = '/Users/choi/git/NYU/DSGA1004 Big Data/final-project-group-2/recommender_train'\n",
    "\n",
    "val_path = '/Users/choi/git/NYU/DSGA1004 Big Data/final-project-group-2/recommender_val_small'\n",
    "val_full_path = '/Users/choi/git/NYU/DSGA1004 Big Data/final-project-group-2/recommender_val'\n",
    "\n",
    "test_path = '/Users/choi/git/NYU/DSGA1004 Big Data/final-project-group-2/recommender_test'\n",
    "\n",
    "train = dd.read_parquet(train_path).compute()\n",
    "train_full = dd.read_parquet(train_full_path).compute()\n",
    "\n",
    "val = dd.read_parquet(val_path).compute()\n",
    "val_full = dd.read_parquet(val_full_path).compute()\n",
    "\n",
    "test = dd.read_parquet(test_path).compute()"
   ]
  },
  {
   "attachments": {},
   "cell_type": "markdown",
   "id": "89035f7d-09ae-4a8c-a1a9-f0e9fdab0b39",
   "metadata": {},
   "source": [
    "## Preproces Data"
   ]
  },
  {
   "cell_type": "code",
   "execution_count": 27,
   "id": "0d9635ff-7b12-401f-b2e1-df0259b904a2",
   "metadata": {},
   "outputs": [],
   "source": [
    "# Assuming you have user, item, and rating columns in the dataset\n",
    "train = train.rename(columns={'user_id': 'user', 'recording_msid': 'item', 'count': 'rating'})\n",
    "val = val.rename(columns={'user_id': 'user', 'recording_msid': 'item', 'count': 'rating'})\n",
    "\n",
    "train_full = train_full.rename(columns={'user_id': 'user', 'recording_msid': 'item', 'count': 'rating'})\n",
    "val_full = val_full.rename(columns={'user_id': 'user', 'recording_msid': 'item', 'count': 'rating'})\n",
    "\n",
    "test = test.rename(columns={'user_id': 'user', 'recording_msid': 'item', 'count': 'rating'})"
   ]
  },
  {
   "cell_type": "code",
   "execution_count": 33,
   "id": "da523ddd-f6ab-4398-a90b-c810b478c0a9",
   "metadata": {},
   "outputs": [
    {
     "name": "stderr",
     "output_type": "stream",
     "text": [
      "/var/folders/sp/l9mdhsl91857chmn1wsjkfyr0000gn/T/ipykernel_46605/1096961172.py:11: SettingWithCopyWarning: \n",
      "A value is trying to be set on a copy of a slice from a DataFrame.\n",
      "Try using .loc[row_indexer,col_indexer] = value instead\n",
      "\n",
      "See the caveats in the documentation: https://pandas.pydata.org/pandas-docs/stable/user_guide/indexing.html#returning-a-view-versus-a-copy\n",
      "  test_filtered['item'] = le.transform(test_filtered['item'])\n"
     ]
    }
   ],
   "source": [
    "# Find unique items present in both train and test DataFrames\n",
    "unique_items_train = set(train_full['item'].unique())\n",
    "unique_items_test = set(test['item'].unique())\n",
    "common_items = unique_items_train.intersection(unique_items_test)\n",
    "\n",
    "# Filter test DataFrame to only include items present in both DataFrames\n",
    "le = LabelEncoder()\n",
    "le.fit(train_full['item'])\n",
    "test_filtered = test[test['item'].isin(common_items)]\n",
    "\n",
    "# Convert string recording_msid to index (int)\n",
    "test_filtered['item'] = le.transform(test_filtered['item'])\n",
    "train_full['item'] = le.transform(train_full['item'])\n",
    "val_full['item'] = le.transform(val_full['item'])"
   ]
  },
  {
   "cell_type": "code",
   "execution_count": 35,
   "id": "2eb9aa53-afee-44b6-9476-337ec89f863e",
   "metadata": {},
   "outputs": [],
   "source": [
    "# Convert string recording_msid to index (int) for small set\n",
    "le = LabelEncoder()\n",
    "le.fit(train['item'])\n",
    "train['item'] = le.transform(train['item'])\n",
    "val['item'] = le.transform(val['item'])"
   ]
  },
  {
   "attachments": {},
   "cell_type": "markdown",
   "id": "c7dd2f01-fbda-4e59-8f0d-1fb2fa7aba57",
   "metadata": {},
   "source": [
    "## ALS Function"
   ]
  },
  {
   "cell_type": "code",
   "execution_count": 7,
   "id": "ee05d3c8-3202-4a0a-beeb-d8ffbab6723d",
   "metadata": {},
   "outputs": [],
   "source": [
    "def ALS_lenskit(train, true):\n",
    "    start = time.time()\n",
    "\n",
    "    # Define the LensKit ALS model\n",
    "    lk_als = als.ImplicitMF(200, reg=1, iterations=15, weight=10, use_ratings=True, progress=None)\n",
    "\n",
    "    # Train the model on your training data\n",
    "    model = Recommender.adapt(lk_als)\n",
    "    model.fit(train)\n",
    "\n",
    "    # Run recommendations for the validation data\n",
    "    pred = batch.recommend(model, true.user.unique(), 100)\n",
    "    \n",
    "    print('total elapsed time: ', time.time() - start)\n",
    "    \n",
    "    return pred"
   ]
  },
  {
   "attachments": {},
   "cell_type": "markdown",
   "id": "d29417d8-2cd7-47b7-9e5e-3bd86d45fc86",
   "metadata": {
    "tags": []
   },
   "source": [
    "## Evaluation Function"
   ]
  },
  {
   "cell_type": "code",
   "execution_count": 8,
   "id": "8ea0f337-3551-4f9f-957e-f030612f9407",
   "metadata": {},
   "outputs": [],
   "source": [
    "def mapAtK(pred, true, k = 100):\n",
    "    # Create a dictionary to store the relevant items for each user\n",
    "    relevant_items = true.groupby(\"user\")[\"item\"].apply(set).to_dict()\n",
    "\n",
    "    # Create a dictionary to store the recommended items for each user\n",
    "    recommended_items = pred.groupby(\"user\")[\"item\"].apply(list).to_dict()\n",
    "\n",
    "    # Calculate average precision for each user\n",
    "    aps = []\n",
    "    for user, true_items in relevant_items.items():\n",
    "        rec_items = recommended_items.get(user, [])[:k]\n",
    "        hits = [int(item in true_items) for item in rec_items]\n",
    "        if np.sum(hits) > 0:\n",
    "            precision_at_k = np.cumsum(hits) / (1 + np.arange(len(hits)))\n",
    "            ap = np.sum(precision_at_k * hits) / len(true_items)\n",
    "            aps.append(ap)\n",
    "        else:\n",
    "            aps.append(0)\n",
    "\n",
    "    # Calculate the mean average precision\n",
    "    map_at_k = np.mean(aps)\n",
    "    \n",
    "    return np.round(map_at_k, 4)"
   ]
  },
  {
   "attachments": {},
   "cell_type": "markdown",
   "id": "18b877a3-038d-4aaa-801c-3e4a947cb9ed",
   "metadata": {
    "tags": []
   },
   "source": [
    "## Small Validation Dataset Evaluation"
   ]
  },
  {
   "attachments": {},
   "cell_type": "markdown",
   "id": "f08960ed-0a7e-4b51-8eeb-cb458f8ca71c",
   "metadata": {},
   "source": [
    "### Run Lenskit ALS"
   ]
  },
  {
   "cell_type": "code",
   "execution_count": 24,
   "id": "d47972b4-a1bc-420f-aa9e-f7cfa7ad40a2",
   "metadata": {
    "tags": []
   },
   "outputs": [
    {
     "name": "stderr",
     "output_type": "stream",
     "text": [
      "BLAS using multiple threads - can cause oversubscription\n",
      "found 1 potential runtime problems - see https://boi.st/lkpy-perf\n"
     ]
    },
    {
     "name": "stdout",
     "output_type": "stream",
     "text": [
      "total elapsed time:  900.0470471382141\n"
     ]
    }
   ],
   "source": [
    "pred = ALS_lenskit(train, val)"
   ]
  },
  {
   "cell_type": "code",
   "execution_count": 25,
   "id": "ff1d79ac-7e47-477d-a435-ebafd5e5cb57",
   "metadata": {},
   "outputs": [
    {
     "name": "stdout",
     "output_type": "stream",
     "text": [
      "          item     score   user  rank\n",
      "0       165231  1.280896     27     1\n",
      "1       176194  1.150671     27     2\n",
      "2       185797  1.141786     27     3\n",
      "3       248740  1.115174     27     4\n",
      "4        62633  1.085859     27     5\n",
      "...        ...       ...    ...   ...\n",
      "652695  209145  0.651710  21973    96\n",
      "652696   97510  0.650223  21973    97\n",
      "652697  186829  0.649740  21973    98\n",
      "652698  206821  0.648709  21973    99\n",
      "652699  231384  0.647883  21973   100\n",
      "\n",
      "[652700 rows x 4 columns]\n"
     ]
    }
   ],
   "source": [
    "print(pred)"
   ]
  },
  {
   "attachments": {},
   "cell_type": "markdown",
   "id": "960388b5-8ed4-44c0-939f-b7d4677d3894",
   "metadata": {},
   "source": [
    "### Evaluate"
   ]
  },
  {
   "cell_type": "code",
   "execution_count": 26,
   "id": "0059b3ba-762c-47e1-ae0e-05dc44d0fb5d",
   "metadata": {},
   "outputs": [],
   "source": [
    "map_at_k = mapAtK(pred, val)"
   ]
  },
  {
   "cell_type": "code",
   "execution_count": 1,
   "id": "eceaf603",
   "metadata": {},
   "outputs": [
    {
     "name": "stdout",
     "output_type": "stream",
     "text": [
      "0.01253\n"
     ]
    }
   ],
   "source": [
    "map_at_k"
   ]
  },
  {
   "attachments": {},
   "cell_type": "markdown",
   "id": "d2a00eb7-73e0-4055-9a38-719add54a534",
   "metadata": {
    "tags": []
   },
   "source": [
    "## Large Validation Dataset Evaluation"
   ]
  },
  {
   "attachments": {},
   "cell_type": "markdown",
   "id": "4b25d788-69d0-45aa-90b7-50d94e51c5eb",
   "metadata": {},
   "source": [
    "### Run Lenskit ALS"
   ]
  },
  {
   "cell_type": "code",
   "execution_count": null,
   "id": "34fd9e08-23a3-4f8b-bb1d-2c6dbb16c3e7",
   "metadata": {
    "tags": []
   },
   "outputs": [
    {
     "name": "stderr",
     "output_type": "stream",
     "text": [
      "BLAS using multiple threads - can cause oversubscription\n",
      "found 1 potential runtime problems - see https://boi.st/lkpy-perf\n"
     ]
    },
    {
     "name": "stdout",
     "output_type": "stream",
     "text": [
      "total elapsed time:  2883.058085203171\n"
     ]
    }
   ],
   "source": [
    "pred = ALS_lenskit(train_full, val_full)"
   ]
  },
  {
   "cell_type": "code",
   "execution_count": null,
   "id": "f8094b27-ed71-4ef5-8a5a-6051eb5c32b1",
   "metadata": {},
   "outputs": [
    {
     "name": "stdout",
     "output_type": "stream",
     "text": [
      "          item     score   user  rank\n",
      "0       336327  0.627314     53     1\n",
      "1       614884  0.589878     53     2\n",
      "2       571758  0.557194     53     3\n",
      "3       384013  0.555655     53     4\n",
      "4       347973  0.548397     53     5\n",
      "...        ...       ...    ...   ...\n",
      "755895  474239  0.631508  22187    96\n",
      "755896  846201  0.631236  22187    97\n",
      "755897  875639  0.629932  22187    98\n",
      "755898  654108  0.628784  22187    99\n",
      "755899  810591  0.628367  22187   100\n",
      "\n",
      "[755900 rows x 4 columns]\n"
     ]
    }
   ],
   "source": [
    "print(pred)"
   ]
  },
  {
   "attachments": {},
   "cell_type": "markdown",
   "id": "7c8e4216-0708-4887-9c54-5c97672c6122",
   "metadata": {},
   "source": [
    "### Evaluate"
   ]
  },
  {
   "cell_type": "code",
   "execution_count": null,
   "id": "b30b742f-e0a7-4576-800c-2aa82e7dcbae",
   "metadata": {},
   "outputs": [],
   "source": [
    "map_at_k = mapAtK(pred, val_full)"
   ]
  },
  {
   "cell_type": "code",
   "execution_count": 2,
   "id": "4aaf8ec2",
   "metadata": {},
   "outputs": [
    {
     "name": "stdout",
     "output_type": "stream",
     "text": [
      "0.02738\n"
     ]
    }
   ],
   "source": [
    "map_at_k"
   ]
  },
  {
   "attachments": {},
   "cell_type": "markdown",
   "id": "f5ab8a4e-f077-49fb-9c65-5b2da8c80fd7",
   "metadata": {
    "tags": []
   },
   "source": [
    "## Large Test Dataset Evaluation"
   ]
  },
  {
   "attachments": {},
   "cell_type": "markdown",
   "id": "0e443ffe-db53-4a61-bc61-cea3dc9d00e4",
   "metadata": {},
   "source": [
    "### Run Lenskit ALS"
   ]
  },
  {
   "cell_type": "code",
   "execution_count": null,
   "id": "8f11a749-4e6d-4ea0-bc57-af3ecedeaee8",
   "metadata": {
    "tags": []
   },
   "outputs": [
    {
     "name": "stdout",
     "output_type": "stream",
     "text": [
      "total elapsed time:  2485.868931055069\n"
     ]
    }
   ],
   "source": [
    "pred = ALS_lenskit(train_full, test_filtered)"
   ]
  },
  {
   "cell_type": "code",
   "execution_count": null,
   "id": "65de10b7-37bf-45b2-94fa-d629ed585a09",
   "metadata": {},
   "outputs": [
    {
     "name": "stdout",
     "output_type": "stream",
     "text": [
      "          item     score   user  rank\n",
      "0       638720  1.506001      1     1\n",
      "1       877976  1.404588      1     2\n",
      "2       767927  1.399701      1     3\n",
      "3       722020  1.395297      1     4\n",
      "4       538986  1.371902      1     5\n",
      "...        ...       ...    ...   ...\n",
      "521195  381021  1.061963  22705    96\n",
      "521196  695359  1.060480  22705    97\n",
      "521197  514112  1.058581  22705    98\n",
      "521198  474509  1.058088  22705    99\n",
      "521199  619750  1.057959  22705   100\n",
      "\n",
      "[521200 rows x 4 columns]\n"
     ]
    }
   ],
   "source": [
    "print(pred)"
   ]
  },
  {
   "attachments": {},
   "cell_type": "markdown",
   "id": "6201bda2-6db8-4338-99fd-22db5dd711d9",
   "metadata": {},
   "source": [
    "### Evaluate"
   ]
  },
  {
   "cell_type": "code",
   "execution_count": null,
   "id": "b3cb94c2-6925-488a-9e3a-557ca8c9294e",
   "metadata": {},
   "outputs": [],
   "source": [
    "map_at_k = mapAtK(pred, test_filtered)"
   ]
  },
  {
   "cell_type": "code",
   "execution_count": 3,
   "id": "d0eb0c01-dcfa-4600-9cea-6efa1c2c03a7",
   "metadata": {
    "tags": []
   },
   "outputs": [
    {
     "name": "stdout",
     "output_type": "stream",
     "text": [
      "0.037489\n"
     ]
    }
   ],
   "source": [
    "map_at_k"
   ]
  }
 ],
 "metadata": {
  "kernelspec": {
   "display_name": "py39",
   "language": "python",
   "name": "py39"
  },
  "language_info": {
   "codemirror_mode": {
    "name": "ipython",
    "version": 3
   },
   "file_extension": ".py",
   "mimetype": "text/x-python",
   "name": "python",
   "nbconvert_exporter": "python",
   "pygments_lexer": "ipython3",
   "version": "3.9.12"
  }
 },
 "nbformat": 4,
 "nbformat_minor": 5
}
